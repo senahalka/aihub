{
  "nbformat": 4,
  "nbformat_minor": 0,
  "metadata": {
    "colab": {
      "provenance": []
    },
    "kernelspec": {
      "name": "python3",
      "display_name": "Python 3"
    },
    "language_info": {
      "name": "python"
    }
  },
  "cells": [
    {
      "cell_type": "code",
      "source": [],
      "metadata": {
        "id": "ivwAcj4wAqiw"
      },
      "execution_count": null,
      "outputs": []
    },
    {
      "cell_type": "code",
      "execution_count": 11,
      "metadata": {
        "colab": {
          "base_uri": "https://localhost:8080/"
        },
        "id": "p6JjvjVimYr-",
        "outputId": "25c0eceb-ff6e-44cb-8e22-4bf73192fa8c"
      },
      "outputs": [
        {
          "name": "stdout",
          "output_type": "stream",
          "text": [
            "\n",
            "*** MENU ***\n",
            "1) List Books\n",
            "2) Add Book\n",
            "3) Remove Book\n",
            "4) Quit\n",
            "Enter your choice: 1\n",
            "╒═══════════════════════╤════════════════╤════════════════╤═════════╕\n",
            "│ Title                 │ Author         │   Release Year │   Pages │\n",
            "╞═══════════════════════╪════════════════╪════════════════╪═════════╡\n",
            "│ Harry Potter          │ J.K. Rowling   │           1997 │     320 │\n",
            "├───────────────────────┼────────────────┼────────────────┼─────────┤\n",
            "│ Lord of the Rings     │ J.R.R. Tolkien │           1954 │    1178 │\n",
            "├───────────────────────┼────────────────┼────────────────┼─────────┤\n",
            "│ To Kill a Mockingbird │ Harper Lee     │           1960 │     281 │\n",
            "╘═══════════════════════╧════════════════╧════════════════╧═════════╛\n",
            "\n",
            "*** MENU ***\n",
            "1) List Books\n",
            "2) Add Book\n",
            "3) Remove Book\n",
            "4) Quit\n",
            "Enter your choice: 4\n"
          ]
        }
      ],
      "source": [
        "from tabulate import tabulate\n",
        "\n",
        "class Library:\n",
        "    def __init__(self):\n",
        "        self.file = open(\"books.txt\", \"a+\")\n",
        "\n",
        "    def __del__(self):\n",
        "        self.file.close()\n",
        "\n",
        "    def list_books(self):\n",
        "        self.file.seek(0)\n",
        "        book_lines = self.file.read().splitlines()\n",
        "        books_data = [line.split(\",\") for line in book_lines]\n",
        "        print(tabulate(books_data, headers=[\"Title\", \"Author\", \"Release Year\", \"Pages\"], tablefmt=\"fancy_grid\"))\n",
        "\n",
        "    def add_book(self, title, author, release_year, pages):\n",
        "        book_info = f\"{title}, {author}, {release_year}, {pages}\\n\"\n",
        "        self.file.write(book_info)\n",
        "        print(\"Book added successfully!\")\n",
        "\n",
        "    def remove_book(self):\n",
        "        title_to_remove = input(\"Enter the title of the book to remove: \")\n",
        "        self.file.seek(0)\n",
        "        books = self.file.read().splitlines()\n",
        "        updated_books = [book for book in books if title_to_remove not in book]\n",
        "        self.file.seek(0)\n",
        "        self.file.truncate()\n",
        "        self.file.writelines('\\n'.join(updated_books))\n",
        "        print(\"Book removed successfully!\")\n",
        "\n",
        "\n",
        "lib = Library()\n",
        "\n",
        "while True:\n",
        "    print(\"\\n*** MENU ***\")\n",
        "    print(\"1) List Books\")\n",
        "    print(\"2) Add Book\")\n",
        "    print(\"3) Remove Book\")\n",
        "    print(\"4) Quit\")\n",
        "    choice = input(\"Enter your choice: \")\n",
        "\n",
        "    if choice == \"1\":\n",
        "        lib.list_books()\n",
        "    elif choice == \"2\":\n",
        "        title = input(\"Enter book title: \")\n",
        "        author = input(\"Enter book author: \")\n",
        "        release_year = input(\"Enter first release year: \")\n",
        "        pages = input(\"Enter number of pages: \")\n",
        "        lib.add_book(title, author, release_year, pages)\n",
        "    elif choice == \"3\":\n",
        "        lib.remove_book()\n",
        "    elif choice == \"4\":\n",
        "        break\n",
        "    else:\n",
        "        print(\"Invalid choice\")\n"
      ]
    }
  ]
}